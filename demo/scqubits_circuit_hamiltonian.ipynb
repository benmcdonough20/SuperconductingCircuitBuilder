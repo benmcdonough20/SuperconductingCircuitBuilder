{
 "cells": [
  {
   "attachments": {},
   "cell_type": "markdown",
   "metadata": {},
   "source": [
    "# Circuit Hamiltonian\n",
    "CircuitBuilder provides an interface to scQubits through the `File > export`  feature. scQubits uses the given parameters to generate and diagonalize the Hamiltonian, and can also print out a symbolic Hamiltonian. For more information about scQubits numerical routines, see [Computer-aided quantization and numerical analysis of superconducting circuits](https://arxiv.org/abs/2206.08320) by Chitta et al."
   ]
  },
  {
   "cell_type": "code",
   "execution_count": 2,
   "metadata": {},
   "outputs": [],
   "source": [
    "import scqubits as scq #import scqubits"
   ]
  },
  {
   "cell_type": "code",
   "execution_count": 4,
   "metadata": {},
   "outputs": [],
   "source": [
    "circuit = scq.Circuit(\"simple_circuit.yml\") #load circuit from file"
   ]
  },
  {
   "cell_type": "code",
   "execution_count": 5,
   "metadata": {},
   "outputs": [
    {
     "data": {
      "text/latex": [
       "$ \\left(0.079924 n_{1}^{2} + 0.079924 n_{g1}^{2} + 0.159848 n_{1} n_{g1}\\right) - 1.2 \\cos{\\left(θ_{1} \\right)} $"
      ],
      "text/plain": [
       "<IPython.core.display.Latex object>"
      ]
     },
     "metadata": {},
     "output_type": "display_data"
    }
   ],
   "source": [
    "circuit.sym_hamiltonian() #get symbolic Hamiltonian"
   ]
  },
  {
   "cell_type": "code",
   "execution_count": 9,
   "metadata": {},
   "outputs": [
    {
     "data": {
      "text/plain": [
       "array([-0.98612607, -0.56908168, -0.17411338,  0.19761558,  0.54324156,\n",
       "        0.86704914])"
      ]
     },
     "execution_count": 9,
     "metadata": {},
     "output_type": "execute_result"
    }
   ],
   "source": [
    "circuit.eigenvals() #Obtain spectrum (in GHz)"
   ]
  }
 ],
 "metadata": {
  "kernelspec": {
   "display_name": "qiskit_env",
   "language": "python",
   "name": "python3"
  },
  "language_info": {
   "codemirror_mode": {
    "name": "ipython",
    "version": 3
   },
   "file_extension": ".py",
   "mimetype": "text/x-python",
   "name": "python",
   "nbconvert_exporter": "python",
   "pygments_lexer": "ipython3",
   "version": "3.7.0"
  },
  "orig_nbformat": 4,
  "vscode": {
   "interpreter": {
    "hash": "d4803144e0ca2433cbbdbc82809c7bf0c6dd86d5d16291a48205e2d911513c87"
   }
  }
 },
 "nbformat": 4,
 "nbformat_minor": 2
}
